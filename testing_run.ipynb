{
 "cells": [
  {
   "cell_type": "code",
   "execution_count": 1,
   "id": "45876289",
   "metadata": {},
   "outputs": [],
   "source": [
    "import pandas as pd\n",
    "from pathlib import Path"
   ]
  },
  {
   "cell_type": "markdown",
   "id": "5d180e60",
   "metadata": {},
   "source": [
    "## Src imports"
   ]
  },
  {
   "cell_type": "code",
   "execution_count": 2,
   "id": "ad817c46",
   "metadata": {},
   "outputs": [],
   "source": [
    "from run_pipeline import build_dataset"
   ]
  },
  {
   "cell_type": "markdown",
   "id": "cc26bc65",
   "metadata": {},
   "source": [
    "for reload"
   ]
  },
  {
   "cell_type": "code",
   "execution_count": 13,
   "id": "ae94d667",
   "metadata": {},
   "outputs": [],
   "source": [
    "import run_pipeline as rp\n",
    "import src.data_loader as dl\n",
    "import src.track_features as tf\n",
    "from importlib import reload\n",
    "reload(rp)\n",
    "reload(dl)\n",
    "reload(tf)\n",
    "\n",
    "from run_pipeline import build_dataset"
   ]
  },
  {
   "cell_type": "code",
   "execution_count": 4,
   "id": "4738f034",
   "metadata": {},
   "outputs": [
    {
     "name": "stderr",
     "output_type": "stream",
     "text": [
      "C:\\Users\\samue\\AppData\\Local\\Temp\\ipykernel_20948\\314155161.py:1: DtypeWarning: Columns (70,71,73,74,82) have mixed types. Specify dtype option on import or set low_memory=False.\n",
      "  data = pd.read_csv('data/UNSW F12024.csv')\n"
     ]
    }
   ],
   "source": [
    "data = pd.read_csv('data/UNSW F12024.csv')"
   ]
  },
  {
   "cell_type": "code",
   "execution_count": 3,
   "id": "f418875b",
   "metadata": {},
   "outputs": [
    {
     "name": "stdout",
     "output_type": "stream",
     "text": [
      "\n",
      "============================================================\n",
      "Starting Data Pipeline\n",
      "============================================================\n",
      "\n",
      "[1/6] Loading data...\n",
      "   Loaded 6525414 race records\n",
      "   Loaded track data\n",
      "\n",
      "[2/6] Cleaning data...\n",
      "   5614893 records after cleaning\n",
      "\n",
      "[3/6] Filtering by distance...\n",
      "   1246720 records after filtering\n",
      "\n",
      "[4/6] Computing track features...\n"
     ]
    },
    {
     "name": "stderr",
     "output_type": "stream",
     "text": [
      "Calculating left edge widths: 100%|██████████| 5416/5416 [00:00<00:00, 35173.61it/s]\n",
      "Calculating right edge widths: 100%|██████████| 5766/5766 [00:00<00:00, 41098.48it/s]\n",
      "Processing car positions: 100%|██████████| 1246720/1246720 [02:29<00:00, 8315.27it/s]\n"
     ]
    },
    {
     "name": "stdout",
     "output_type": "stream",
     "text": [
      "\n",
      "[5/6] Computing apex features...\n",
      "\n",
      "[6/6] Identifying off-track incidents...\n",
      "   Found 0 off-track incidents\n",
      "\n",
      "[7/7] Saving processed data...\n",
      "\n",
      "============================================================\n",
      "Pipeline Complete!\n",
      "============================================================\n",
      "\n",
      "Final dataset shape: (1246720, 49)\n",
      "Columns: ['SESSION_GUID', 'CURRENTLAPNUM', 'SESSIONUID', 'SPEED', 'THROTTLE', 'STEER', 'BRAKE', 'GEAR', 'ENGINERP1', 'DRS', 'BRAKESTEMPERATURE_RL', 'BRAKESTEMPERATURE_RR', 'BRAKESTEMPERATURE_FL', 'BRAKESTEMPERATURE_FR', 'TYRESPRESSURE_RL', 'TYRESPRESSURE_RR', 'TYRESPRESSURE_FL', 'TYRESPRESSURE_FR', 'CURRENTLAPTIMEINMS', 'LAPDISTANCE', 'TOTALDISTANCE', 'CURRENTLAPNU1', 'CURRENTLAPINVALID', 'WORLDPOSITIONX', 'WORLDPOSITIONY', 'WORLDPOSITIONZ', 'WORLDFORWARDDIRX', 'WORLDFORWARDDIRY', 'WORLDFORWARDDIRZ', 'WORLDRIGHTDIRX', 'WORLDRIGHTDIRY', 'WORLDRIGHTDIRZ', 'YAW', 'PITCH', 'ROLL', 'FRONTWHEELSANGLE', 'TRACKID', 'R_STATUS', 'LAPTIME', 'CURRENTLAPTIME', 'left_dist', 'right_dist', 'l_width', 'r_width', 'dist_apex_1', 'dist_apex_2', 'angle_to_apex1', 'angle_to_apex2', 'invalid_lap']\n"
     ]
    }
   ],
   "source": [
    "cleanned_data = build_dataset()"
   ]
  },
  {
   "cell_type": "code",
   "execution_count": null,
   "id": "3ddafb06",
   "metadata": {},
   "outputs": [
    {
     "name": "stdout",
     "output_type": "stream",
     "text": [
      "Number of valid laps 409, number of invalid laps 642\n"
     ]
    }
   ],
   "source": [
    "n_valid = len(df[df[\"invalid_lap\"] == 0][\"lap_id\"].drop_duplicates())\n",
    "n_invalid = len(df[df[\"invalid_lap\"] == 1][\"lap_id\"].drop_duplicates())\n",
    "print(f\"Number of valid laps {n_valid}, number of invalid laps {n_invalid}\")"
   ]
  },
  {
   "cell_type": "code",
   "execution_count": 28,
   "id": "48bbf18c",
   "metadata": {},
   "outputs": [],
   "source": [
    "cleanned_data.to_csv(\"data/cleanned_data.csv\")"
   ]
  }
 ],
 "metadata": {
  "kernelspec": {
   "display_name": "Python 3",
   "language": "python",
   "name": "python3"
  },
  "language_info": {
   "codemirror_mode": {
    "name": "ipython",
    "version": 3
   },
   "file_extension": ".py",
   "mimetype": "text/x-python",
   "name": "python",
   "nbconvert_exporter": "python",
   "pygments_lexer": "ipython3",
   "version": "3.10.4"
  }
 },
 "nbformat": 4,
 "nbformat_minor": 5
}
